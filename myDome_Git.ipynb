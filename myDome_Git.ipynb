{
  "nbformat": 4,
  "nbformat_minor": 0,
  "metadata": {
    "colab": {
      "name": "myDome_Git.ipynb",
      "provenance": [],
      "authorship_tag": "ABX9TyN9WKhvtYJ9Ud6ZRiGTwfUe",
      "include_colab_link": true
    },
    "kernelspec": {
      "name": "python3",
      "display_name": "Python 3"
    },
    "language_info": {
      "name": "python"
    }
  },
  "cells": [
    {
      "cell_type": "markdown",
      "metadata": {
        "id": "view-in-github",
        "colab_type": "text"
      },
      "source": [
        "<a href=\"https://colab.research.google.com/github/plernphis/GitDome/blob/main/myDome_Git.ipynb\" target=\"_parent\"><img src=\"https://colab.research.google.com/assets/colab-badge.svg\" alt=\"Open In Colab\"/></a>"
      ]
    },
    {
      "cell_type": "code",
      "execution_count": 1,
      "metadata": {
        "colab": {
          "base_uri": "https://localhost:8080/"
        },
        "id": "JeGfyZc8lzSb",
        "outputId": "9e5bd7d4-1338-4d6f-c7e5-7a2888673dfc"
      },
      "outputs": [
        {
          "output_type": "stream",
          "name": "stdout",
          "text": [
            "Holle GitHub\n"
          ]
        }
      ],
      "source": [
        "print(\"Holle GitHub\")"
      ]
    }
  ]
}